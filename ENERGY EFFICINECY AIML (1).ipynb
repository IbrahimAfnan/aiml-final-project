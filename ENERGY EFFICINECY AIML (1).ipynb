{
 "cells": [
  {
   "cell_type": "code",
   "execution_count": 1,
   "id": "aa3881a8",
   "metadata": {},
   "outputs": [],
   "source": [
    "import pandas as pd"
   ]
  },
  {
   "cell_type": "code",
   "execution_count": 2,
   "id": "57e38dd2",
   "metadata": {},
   "outputs": [],
   "source": [
    "df=pd.read_excel(\"ENB2012_data (2).xlsx\")"
   ]
  },
  {
   "cell_type": "code",
   "execution_count": 3,
   "id": "e1d11922",
   "metadata": {},
   "outputs": [
    {
     "data": {
      "text/html": [
       "<div>\n",
       "<style scoped>\n",
       "    .dataframe tbody tr th:only-of-type {\n",
       "        vertical-align: middle;\n",
       "    }\n",
       "\n",
       "    .dataframe tbody tr th {\n",
       "        vertical-align: top;\n",
       "    }\n",
       "\n",
       "    .dataframe thead th {\n",
       "        text-align: right;\n",
       "    }\n",
       "</style>\n",
       "<table border=\"1\" class=\"dataframe\">\n",
       "  <thead>\n",
       "    <tr style=\"text-align: right;\">\n",
       "      <th></th>\n",
       "      <th>Realtive compactness</th>\n",
       "      <th>surface area</th>\n",
       "      <th>wall area</th>\n",
       "      <th>roof area</th>\n",
       "      <th>overall height</th>\n",
       "      <th>orientation</th>\n",
       "      <th>glazing area</th>\n",
       "      <th>glazing area distribution</th>\n",
       "      <th>heating load</th>\n",
       "      <th>cooling load</th>\n",
       "    </tr>\n",
       "  </thead>\n",
       "  <tbody>\n",
       "    <tr>\n",
       "      <th>0</th>\n",
       "      <td>0.98</td>\n",
       "      <td>514.5</td>\n",
       "      <td>294.0</td>\n",
       "      <td>110.25</td>\n",
       "      <td>7.0</td>\n",
       "      <td>2</td>\n",
       "      <td>0.0</td>\n",
       "      <td>0</td>\n",
       "      <td>15.55</td>\n",
       "      <td>21.33</td>\n",
       "    </tr>\n",
       "    <tr>\n",
       "      <th>1</th>\n",
       "      <td>0.98</td>\n",
       "      <td>514.5</td>\n",
       "      <td>294.0</td>\n",
       "      <td>110.25</td>\n",
       "      <td>7.0</td>\n",
       "      <td>3</td>\n",
       "      <td>0.0</td>\n",
       "      <td>0</td>\n",
       "      <td>15.55</td>\n",
       "      <td>21.33</td>\n",
       "    </tr>\n",
       "    <tr>\n",
       "      <th>2</th>\n",
       "      <td>0.98</td>\n",
       "      <td>514.5</td>\n",
       "      <td>294.0</td>\n",
       "      <td>110.25</td>\n",
       "      <td>7.0</td>\n",
       "      <td>4</td>\n",
       "      <td>0.0</td>\n",
       "      <td>0</td>\n",
       "      <td>15.55</td>\n",
       "      <td>21.33</td>\n",
       "    </tr>\n",
       "    <tr>\n",
       "      <th>3</th>\n",
       "      <td>0.98</td>\n",
       "      <td>514.5</td>\n",
       "      <td>294.0</td>\n",
       "      <td>110.25</td>\n",
       "      <td>7.0</td>\n",
       "      <td>5</td>\n",
       "      <td>0.0</td>\n",
       "      <td>0</td>\n",
       "      <td>15.55</td>\n",
       "      <td>21.33</td>\n",
       "    </tr>\n",
       "    <tr>\n",
       "      <th>4</th>\n",
       "      <td>0.90</td>\n",
       "      <td>563.5</td>\n",
       "      <td>318.5</td>\n",
       "      <td>122.50</td>\n",
       "      <td>7.0</td>\n",
       "      <td>2</td>\n",
       "      <td>0.0</td>\n",
       "      <td>0</td>\n",
       "      <td>20.84</td>\n",
       "      <td>28.28</td>\n",
       "    </tr>\n",
       "    <tr>\n",
       "      <th>...</th>\n",
       "      <td>...</td>\n",
       "      <td>...</td>\n",
       "      <td>...</td>\n",
       "      <td>...</td>\n",
       "      <td>...</td>\n",
       "      <td>...</td>\n",
       "      <td>...</td>\n",
       "      <td>...</td>\n",
       "      <td>...</td>\n",
       "      <td>...</td>\n",
       "    </tr>\n",
       "    <tr>\n",
       "      <th>763</th>\n",
       "      <td>0.64</td>\n",
       "      <td>784.0</td>\n",
       "      <td>343.0</td>\n",
       "      <td>220.50</td>\n",
       "      <td>3.5</td>\n",
       "      <td>5</td>\n",
       "      <td>0.4</td>\n",
       "      <td>5</td>\n",
       "      <td>17.88</td>\n",
       "      <td>21.40</td>\n",
       "    </tr>\n",
       "    <tr>\n",
       "      <th>764</th>\n",
       "      <td>0.62</td>\n",
       "      <td>808.5</td>\n",
       "      <td>367.5</td>\n",
       "      <td>220.50</td>\n",
       "      <td>3.5</td>\n",
       "      <td>2</td>\n",
       "      <td>0.4</td>\n",
       "      <td>5</td>\n",
       "      <td>16.54</td>\n",
       "      <td>16.88</td>\n",
       "    </tr>\n",
       "    <tr>\n",
       "      <th>765</th>\n",
       "      <td>0.62</td>\n",
       "      <td>808.5</td>\n",
       "      <td>367.5</td>\n",
       "      <td>220.50</td>\n",
       "      <td>3.5</td>\n",
       "      <td>3</td>\n",
       "      <td>0.4</td>\n",
       "      <td>5</td>\n",
       "      <td>16.44</td>\n",
       "      <td>17.11</td>\n",
       "    </tr>\n",
       "    <tr>\n",
       "      <th>766</th>\n",
       "      <td>0.62</td>\n",
       "      <td>808.5</td>\n",
       "      <td>367.5</td>\n",
       "      <td>220.50</td>\n",
       "      <td>3.5</td>\n",
       "      <td>4</td>\n",
       "      <td>0.4</td>\n",
       "      <td>5</td>\n",
       "      <td>16.48</td>\n",
       "      <td>16.61</td>\n",
       "    </tr>\n",
       "    <tr>\n",
       "      <th>767</th>\n",
       "      <td>0.62</td>\n",
       "      <td>808.5</td>\n",
       "      <td>367.5</td>\n",
       "      <td>220.50</td>\n",
       "      <td>3.5</td>\n",
       "      <td>5</td>\n",
       "      <td>0.4</td>\n",
       "      <td>5</td>\n",
       "      <td>16.64</td>\n",
       "      <td>16.03</td>\n",
       "    </tr>\n",
       "  </tbody>\n",
       "</table>\n",
       "<p>768 rows × 10 columns</p>\n",
       "</div>"
      ],
      "text/plain": [
       "     Realtive compactness  surface area  wall area  roof area  overall height  \\\n",
       "0                    0.98         514.5      294.0     110.25             7.0   \n",
       "1                    0.98         514.5      294.0     110.25             7.0   \n",
       "2                    0.98         514.5      294.0     110.25             7.0   \n",
       "3                    0.98         514.5      294.0     110.25             7.0   \n",
       "4                    0.90         563.5      318.5     122.50             7.0   \n",
       "..                    ...           ...        ...        ...             ...   \n",
       "763                  0.64         784.0      343.0     220.50             3.5   \n",
       "764                  0.62         808.5      367.5     220.50             3.5   \n",
       "765                  0.62         808.5      367.5     220.50             3.5   \n",
       "766                  0.62         808.5      367.5     220.50             3.5   \n",
       "767                  0.62         808.5      367.5     220.50             3.5   \n",
       "\n",
       "     orientation  glazing area  glazing area distribution  heating load  \\\n",
       "0              2           0.0                          0         15.55   \n",
       "1              3           0.0                          0         15.55   \n",
       "2              4           0.0                          0         15.55   \n",
       "3              5           0.0                          0         15.55   \n",
       "4              2           0.0                          0         20.84   \n",
       "..           ...           ...                        ...           ...   \n",
       "763            5           0.4                          5         17.88   \n",
       "764            2           0.4                          5         16.54   \n",
       "765            3           0.4                          5         16.44   \n",
       "766            4           0.4                          5         16.48   \n",
       "767            5           0.4                          5         16.64   \n",
       "\n",
       "     cooling load  \n",
       "0           21.33  \n",
       "1           21.33  \n",
       "2           21.33  \n",
       "3           21.33  \n",
       "4           28.28  \n",
       "..            ...  \n",
       "763         21.40  \n",
       "764         16.88  \n",
       "765         17.11  \n",
       "766         16.61  \n",
       "767         16.03  \n",
       "\n",
       "[768 rows x 10 columns]"
      ]
     },
     "execution_count": 3,
     "metadata": {},
     "output_type": "execute_result"
    }
   ],
   "source": [
    "df"
   ]
  },
  {
   "cell_type": "code",
   "execution_count": 4,
   "id": "69e1ad4e",
   "metadata": {},
   "outputs": [
    {
     "data": {
      "text/html": [
       "<div>\n",
       "<style scoped>\n",
       "    .dataframe tbody tr th:only-of-type {\n",
       "        vertical-align: middle;\n",
       "    }\n",
       "\n",
       "    .dataframe tbody tr th {\n",
       "        vertical-align: top;\n",
       "    }\n",
       "\n",
       "    .dataframe thead th {\n",
       "        text-align: right;\n",
       "    }\n",
       "</style>\n",
       "<table border=\"1\" class=\"dataframe\">\n",
       "  <thead>\n",
       "    <tr style=\"text-align: right;\">\n",
       "      <th></th>\n",
       "      <th>Realtive compactness</th>\n",
       "      <th>surface area</th>\n",
       "      <th>wall area</th>\n",
       "      <th>roof area</th>\n",
       "      <th>overall height</th>\n",
       "      <th>orientation</th>\n",
       "      <th>glazing area</th>\n",
       "      <th>glazing area distribution</th>\n",
       "      <th>heating load</th>\n",
       "      <th>cooling load</th>\n",
       "    </tr>\n",
       "  </thead>\n",
       "  <tbody>\n",
       "    <tr>\n",
       "      <th>0</th>\n",
       "      <td>0.98</td>\n",
       "      <td>514.5</td>\n",
       "      <td>294.0</td>\n",
       "      <td>110.25</td>\n",
       "      <td>7.0</td>\n",
       "      <td>2</td>\n",
       "      <td>0.0</td>\n",
       "      <td>0</td>\n",
       "      <td>15.55</td>\n",
       "      <td>21.33</td>\n",
       "    </tr>\n",
       "    <tr>\n",
       "      <th>1</th>\n",
       "      <td>0.98</td>\n",
       "      <td>514.5</td>\n",
       "      <td>294.0</td>\n",
       "      <td>110.25</td>\n",
       "      <td>7.0</td>\n",
       "      <td>3</td>\n",
       "      <td>0.0</td>\n",
       "      <td>0</td>\n",
       "      <td>15.55</td>\n",
       "      <td>21.33</td>\n",
       "    </tr>\n",
       "    <tr>\n",
       "      <th>2</th>\n",
       "      <td>0.98</td>\n",
       "      <td>514.5</td>\n",
       "      <td>294.0</td>\n",
       "      <td>110.25</td>\n",
       "      <td>7.0</td>\n",
       "      <td>4</td>\n",
       "      <td>0.0</td>\n",
       "      <td>0</td>\n",
       "      <td>15.55</td>\n",
       "      <td>21.33</td>\n",
       "    </tr>\n",
       "    <tr>\n",
       "      <th>3</th>\n",
       "      <td>0.98</td>\n",
       "      <td>514.5</td>\n",
       "      <td>294.0</td>\n",
       "      <td>110.25</td>\n",
       "      <td>7.0</td>\n",
       "      <td>5</td>\n",
       "      <td>0.0</td>\n",
       "      <td>0</td>\n",
       "      <td>15.55</td>\n",
       "      <td>21.33</td>\n",
       "    </tr>\n",
       "    <tr>\n",
       "      <th>4</th>\n",
       "      <td>0.90</td>\n",
       "      <td>563.5</td>\n",
       "      <td>318.5</td>\n",
       "      <td>122.50</td>\n",
       "      <td>7.0</td>\n",
       "      <td>2</td>\n",
       "      <td>0.0</td>\n",
       "      <td>0</td>\n",
       "      <td>20.84</td>\n",
       "      <td>28.28</td>\n",
       "    </tr>\n",
       "  </tbody>\n",
       "</table>\n",
       "</div>"
      ],
      "text/plain": [
       "   Realtive compactness  surface area  wall area  roof area  overall height  \\\n",
       "0                  0.98         514.5      294.0     110.25             7.0   \n",
       "1                  0.98         514.5      294.0     110.25             7.0   \n",
       "2                  0.98         514.5      294.0     110.25             7.0   \n",
       "3                  0.98         514.5      294.0     110.25             7.0   \n",
       "4                  0.90         563.5      318.5     122.50             7.0   \n",
       "\n",
       "   orientation  glazing area  glazing area distribution  heating load  \\\n",
       "0            2           0.0                          0         15.55   \n",
       "1            3           0.0                          0         15.55   \n",
       "2            4           0.0                          0         15.55   \n",
       "3            5           0.0                          0         15.55   \n",
       "4            2           0.0                          0         20.84   \n",
       "\n",
       "   cooling load  \n",
       "0         21.33  \n",
       "1         21.33  \n",
       "2         21.33  \n",
       "3         21.33  \n",
       "4         28.28  "
      ]
     },
     "execution_count": 4,
     "metadata": {},
     "output_type": "execute_result"
    }
   ],
   "source": [
    "df.head()"
   ]
  },
  {
   "cell_type": "code",
   "execution_count": 36,
   "id": "bafe6613",
   "metadata": {},
   "outputs": [
    {
     "data": {
      "image/png": "[encoded data removed]",
      "text/plain": [
       "<Figure size 720x288 with 1 Axes>"
      ]
     },
     "metadata": {
      "needs_background": "light"
     },
     "output_type": "display_data"
    }
   ],
   "source": [
    "import seaborn as sns\n",
    "import matplotlib.pyplot as plt\n",
    "def get_heatmap(df):\n",
    "    plt.figure(figsize=(10,4))\n",
    "    sns.heatmap(df.isnull(),yticklabels=False,cbar=False,cmap='viridis')\n",
    "    plt.tight_layout()\n",
    "    return plt.show()\n",
    "get_heatmap(df)"
   ]
  },
  {
   "cell_type": "code",
   "execution_count": 5,
   "id": "017f49c2",
   "metadata": {},
   "outputs": [
    {
     "name": "stdout",
     "output_type": "stream",
     "text": [
      "0      0.98\n",
      "1      0.98\n",
      "2      0.98\n",
      "3      0.98\n",
      "4      0.90\n",
      "       ... \n",
      "763    0.64\n",
      "764    0.62\n",
      "765    0.62\n",
      "766    0.62\n",
      "767    0.62\n",
      "Name: Realtive compactness, Length: 768, dtype: float64 0      514.5\n",
      "1      514.5\n",
      "2      514.5\n",
      "3      514.5\n",
      "4      563.5\n",
      "       ...  \n",
      "763    784.0\n",
      "764    808.5\n",
      "765    808.5\n",
      "766    808.5\n",
      "767    808.5\n",
      "Name: surface area, Length: 768, dtype: float64 0      294.0\n",
      "1      294.0\n",
      "2      294.0\n",
      "3      294.0\n",
      "4      318.5\n",
      "       ...  \n",
      "763    343.0\n",
      "764    367.5\n",
      "765    367.5\n",
      "766    367.5\n",
      "767    367.5\n",
      "Name: wall area, Length: 768, dtype: float64 0      110.25\n",
      "1      110.25\n",
      "2      110.25\n",
      "3      110.25\n",
      "4      122.50\n",
      "        ...  \n",
      "763    220.50\n",
      "764    220.50\n",
      "765    220.50\n",
      "766    220.50\n",
      "767    220.50\n",
      "Name: roof area, Length: 768, dtype: float64 0      7.0\n",
      "1      7.0\n",
      "2      7.0\n",
      "3      7.0\n",
      "4      7.0\n",
      "      ... \n",
      "763    3.5\n",
      "764    3.5\n",
      "765    3.5\n",
      "766    3.5\n",
      "767    3.5\n",
      "Name: overall height, Length: 768, dtype: float64 0      2\n",
      "1      3\n",
      "2      4\n",
      "3      5\n",
      "4      2\n",
      "      ..\n",
      "763    5\n",
      "764    2\n",
      "765    3\n",
      "766    4\n",
      "767    5\n",
      "Name: orientation, Length: 768, dtype: int64 0      0.0\n",
      "1      0.0\n",
      "2      0.0\n",
      "3      0.0\n",
      "4      0.0\n",
      "      ... \n",
      "763    0.4\n",
      "764    0.4\n",
      "765    0.4\n",
      "766    0.4\n",
      "767    0.4\n",
      "Name: glazing area, Length: 768, dtype: float64 0      0\n",
      "1      0\n",
      "2      0\n",
      "3      0\n",
      "4      0\n",
      "      ..\n",
      "763    5\n",
      "764    5\n",
      "765    5\n",
      "766    5\n",
      "767    5\n",
      "Name: glazing area distribution, Length: 768, dtype: int64 0      15.55\n",
      "1      15.55\n",
      "2      15.55\n",
      "3      15.55\n",
      "4      20.84\n",
      "       ...  \n",
      "763    17.88\n",
      "764    16.54\n",
      "765    16.44\n",
      "766    16.48\n",
      "767    16.64\n",
      "Name: heating load, Length: 768, dtype: float64 0      21.33\n",
      "1      21.33\n",
      "2      21.33\n",
      "3      21.33\n",
      "4      28.28\n",
      "       ...  \n",
      "763    21.40\n",
      "764    16.88\n",
      "765    17.11\n",
      "766    16.61\n",
      "767    16.03\n",
      "Name: cooling load, Length: 768, dtype: float64\n"
     ]
    }
   ],
   "source": [
    "x1=df['Realtive compactness']\n",
    "x2=df['surface area']\n",
    "x3=df['wall area']\n",
    "x4=df['roof area']\n",
    "x5=df['overall height']\n",
    "x6=df['orientation']\n",
    "x7=df['glazing area']\n",
    "x8=df['glazing area distribution']\n",
    "y1=df['heating load']\n",
    "y2=df['cooling load']\n",
    "print(x1,x2,x3,x4,x5,x6,x7,x8,y1,y2)"
   ]
  },
  {
   "cell_type": "code",
   "execution_count": 6,
   "id": "9eef6981",
   "metadata": {},
   "outputs": [],
   "source": [
    "import random\n",
    "x1_train=[]\n",
    "x2_train=[]\n",
    "x3_train=[]\n",
    "x4_train=[]\n",
    "x5_train=[]\n",
    "x6_train=[]\n",
    "x7_train=[]\n",
    "x8_train=[]\n",
    "y1_train=[]\n",
    "\n",
    "\n",
    "for j in range(0,600):\n",
    "  for i in range(0,768,2):\n",
    "    x1_train.append(x1[i])\n",
    "    x2_train.append(x2[i])\n",
    "    x3_train.append(x3[i])\n",
    "    x4_train.append(x4[i])\n",
    "    x5_train.append(x5[i])\n",
    "    x6_train.append(x6[i])\n",
    "    x7_train.append(x7[i])\n",
    "    x8_train.append(x8[i])\n",
    "    y1_train.append(y1[i])\n",
    "  "
   ]
  },
  {
   "cell_type": "code",
   "execution_count": 7,
   "id": "36518882",
   "metadata": {},
   "outputs": [
    {
     "name": "stdout",
     "output_type": "stream",
     "text": [
      "2 3 4 5 6 7 8 9 10 476.0223083496094\n",
      "3 4 5 6 7 8 9 10 11 496.3845901489258\n",
      "4 5 6 7 8 9 10 11 12 134.4140625\n",
      "5 6 7 8 9 10 11 12 13 40.11077880859375\n",
      "6 7 8 9 10 11 12 13 14 213.4746856689453\n",
      "7 8 9 10 11 12 13 14 15 4.5056915283203125\n",
      "8 9 10 11 12 13 14 15 16 63.20402526855469\n",
      "9 10 11 12 13 14 15 16 17 389.56951904296875\n",
      "10 11 12 13 14 15 16 17 18 333.6022033691406\n",
      "11 12 13 14 15 16 17 18 19 545.302001953125\n",
      "12 13 14 15 16 17 18 19 20 374.6690673828125\n",
      "13 14 15 16 17 18 19 20 21 471.7032470703125\n",
      "14 15 16 17 18 19 20 21 22 186.40457153320312\n",
      "15 16 17 18 19 20 21 22 23 168.77349853515625\n",
      "16 17 18 19 20 21 22 23 24 418.80950927734375\n",
      "17 18 19 20 21 22 23 24 25 286.512939453125\n",
      "18 19 20 21 22 23 24 25 26 421.8824462890625\n",
      "19 20 21 22 23 24 25 26 27 174.92034912109375\n",
      "20 21 22 23 24 25 26 27 28 195.6246337890625\n",
      "21 22 23 24 25 26 27 28 29 483.9967041015625\n",
      "22 23 24 25 26 27 28 29 30 390.035888671875\n",
      "23 24 25 26 27 28 29 30 31 563.741943359375\n",
      "24 25 26 27 28 29 30 31 32 355.1156005859375\n",
      "25 26 27 28 29 30 31 32 33 414.15625\n",
      "26 27 28 29 30 31 32 33 34 90.8642578125\n",
      "27 28 29 30 31 32 33 34 35 35.2391357421875\n",
      "28 29 30 31 32 33 34 35 36 247.2813720703125\n",
      "29 30 31 32 33 34 35 36 37 76.9908447265625\n",
      "30 31 32 33 34 35 36 37 38 174.3675537109375\n",
      "31 32 33 34 35 36 37 38 39 539.4127197265625\n",
      "32 33 34 35 36 37 38 39 40 522.1219482421875\n",
      "33 34 35 36 37 38 39 40 41 122.5008544921875\n",
      "34 35 36 37 38 39 40 41 42 640.546875\n",
      "35 36 37 38 39 40 41 42 43 126.259765625\n",
      "36 37 38 39 40 41 42 43 44 529.63916015625\n",
      "37 38 39 40 41 42 43 44 45 550.68603515625\n",
      "38 39 40 41 42 43 44 45 46 189.40087890625\n",
      "39 40 41 42 43 44 45 46 47 95.78271484375\n",
      "40 41 42 43 44 45 46 47 48 269.83154296875\n",
      "41 42 43 44 45 46 47 48 49 61.544677734375\n",
      "42 43 44 45 46 47 48 49 50 120.92919921875\n",
      "43 44 45 46 47 48 49 50 51 447.979736328125\n",
      "44 45 46 47 48 49 50 51 52 392.6962890625\n",
      "45 46 47 48 49 50 51 52 53 605.08203125\n",
      "46 47 48 49 50 51 52 53 54 435.1337890625\n",
      "47 48 49 50 51 52 53 54 55 532.854248046875\n",
      "48 49 50 51 52 53 54 55 56 248.23681640625\n",
      "49 50 51 52 53 54 55 56 57 231.2900390625\n",
      "50 51 52 53 54 55 56 57 58 482.01220703125\n",
      "51 52 53 54 55 56 57 58 59 350.40283203125\n",
      "52 53 54 55 56 57 58 59 60 486.45751953125\n",
      "53 54 55 56 57 58 59 60 61 240.17724609375\n",
      "54 55 56 57 58 59 60 61 62 261.56982421875\n",
      "55 56 57 58 59 60 61 62 63 550.62353515625\n",
      "56 57 58 59 60 61 62 63 64 457.3515625\n",
      "57 58 59 60 61 62 63 64 65 631.7412109375\n",
      "58 59 60 61 62 63 64 65 66 423.80029296875\n",
      "59 60 61 62 63 64 65 66 67 483.52392578125\n",
      "60 61 62 63 64 65 66 67 68 160.916015625\n",
      "61 62 63 64 65 66 67 68 69 105.97802734375\n",
      "62 63 64 65 66 67 68 69 70 318.69921875\n",
      "63 64 65 66 67 68 69 70 71 149.10498046875\n",
      "64 65 66 67 68 69 70 71 72 247.1611328125\n",
      "65 66 67 68 69 70 71 72 73 612.8837890625\n",
      "66 67 68 69 70 71 72 73 74 596.28564453125\n",
      "67 68 69 70 71 72 73 74 75 197.3447265625\n",
      "68 69 70 71 72 73 74 75 76 66.076171875\n",
      "69 70 71 72 73 74 75 76 77 202.48046875\n",
      "70 71 72 73 74 75 76 77 78 606.5390625\n",
      "71 72 73 74 75 76 77 78 79 628.2685546875\n",
      "72 73 74 75 76 77 78 79 80 267.673828125\n",
      "73 74 75 76 77 78 79 80 81 174.7333984375\n",
      "74 75 76 77 78 79 80 81 82 349.4765625\n",
      "75 76 77 78 79 80 81 82 83 141.869140625\n",
      "76 77 78 79 80 81 82 83 84 201.9453125\n",
      "77 78 79 80 81 82 83 84 85 529.673828125\n",
      "78 79 80 81 82 83 84 85 86 475.0703125\n",
      "79 80 81 82 83 84 85 86 87 38.1455078125\n",
      "80 81 82 83 84 85 86 87 88 518.873046875\n",
      "81 82 83 84 85 86 87 88 89 617.2861328125\n",
      "82 83 84 85 86 87 88 89 90 333.357421875\n",
      "83 84 85 86 87 88 89 90 91 317.091796875\n",
      "84 85 86 87 88 89 90 91 92 568.49609375\n",
      "85 86 87 88 89 90 91 92 93 437.576171875\n",
      "86 87 88 89 90 91 92 93 94 574.3125\n",
      "87 88 89 90 91 92 93 94 95 328.7138671875\n",
      "88 89 90 91 92 93 94 95 96 350.7822265625\n",
      "89 90 91 92 93 94 95 96 97 640.5263671875\n",
      "90 91 92 93 94 95 96 97 98 547.9501953125\n",
      "91 92 93 94 95 96 97 98 99 73.01953125\n",
      "92 93 94 95 96 97 98 99 100 515.76953125\n",
      "93 94 95 96 97 98 99 100 101 576.1748046875\n",
      "94 95 96 97 98 99 100 101 102 254.2470703125\n",
      "95 96 97 98 99 100 101 102 103 199.9921875\n",
      "96 97 98 99 100 101 102 103 104 413.41015625\n",
      "97 98 99 100 101 102 103 104 105 244.4921875\n",
      "98 99 100 101 102 103 104 105 106 343.236328125\n",
      "99 100 101 102 103 104 105 106 107 59.640625\n",
      "100 101 102 103 104 105 106 107 108 43.73046875\n"
     ]
    }
   ],
   "source": [
    "import numpy as np\n",
    "\n",
    "e=[]\n",
    "ee=[]\n",
    "def linear(m1,m2,m3,m4,m5,m6,m7,m8,c):\n",
    "  sum=0\n",
    "  yp=[]\n",
    "\n",
    "  for i in range(0,650):\n",
    "    yp.append(m1*x1[i]+m2*x2[i]+m3*x3[i]+m4*x4[i]+m5*x5[i]+m6*x6[i]+m7*x7[i]+m8*x8[i]+c)\n",
    "    g=(y1[i]-yp[i])**2\n",
    "    sum=sum+g\n",
    "  e.append(sum)\n",
    "  ee.append(np.mod(sum,650))\n",
    "  print(m1,m2,m3,m4,m5,m6,m7,m8,c,np.mod(sum,650))\n",
    "  sum=0\n",
    "\n",
    "\n",
    "for i in range(1,100):\n",
    "  linear(1+i,2+i,3+i,4+i,5+i,6+i,7+i,8+i,9+i)"
   ]
  },
  {
   "cell_type": "code",
   "execution_count": 8,
   "id": "cab551af",
   "metadata": {},
   "outputs": [
    {
     "name": "stdout",
     "output_type": "stream",
     "text": [
      "[476.0223083496094, 496.3845901489258, 134.4140625, 40.11077880859375, 213.4746856689453, 4.5056915283203125, 63.20402526855469, 389.56951904296875, 333.6022033691406, 545.302001953125, 374.6690673828125, 471.7032470703125, 186.40457153320312, 168.77349853515625, 418.80950927734375, 286.512939453125, 421.8824462890625, 174.92034912109375, 195.6246337890625, 483.9967041015625, 390.035888671875, 563.741943359375, 355.1156005859375, 414.15625, 90.8642578125, 35.2391357421875, 247.2813720703125, 76.9908447265625, 174.3675537109375, 539.4127197265625, 522.1219482421875, 122.5008544921875, 640.546875, 126.259765625, 529.63916015625, 550.68603515625, 189.40087890625, 95.78271484375, 269.83154296875, 61.544677734375, 120.92919921875, 447.979736328125, 392.6962890625, 605.08203125, 435.1337890625, 532.854248046875, 248.23681640625, 231.2900390625, 482.01220703125, 350.40283203125, 486.45751953125, 240.17724609375, 261.56982421875, 550.62353515625, 457.3515625, 631.7412109375, 423.80029296875, 483.52392578125, 160.916015625, 105.97802734375, 318.69921875, 149.10498046875, 247.1611328125, 612.8837890625, 596.28564453125, 197.3447265625, 66.076171875, 202.48046875, 606.5390625, 628.2685546875, 267.673828125, 174.7333984375, 349.4765625, 141.869140625, 201.9453125, 529.673828125, 475.0703125, 38.1455078125, 518.873046875, 617.2861328125, 333.357421875, 317.091796875, 568.49609375, 437.576171875, 574.3125, 328.7138671875, 350.7822265625, 640.5263671875, 547.9501953125, 73.01953125, 515.76953125, 576.1748046875, 254.2470703125, 199.9921875, 413.41015625, 244.4921875, 343.236328125, 59.640625, 43.73046875]\n"
     ]
    }
   ],
   "source": [
    "print(ee)"
   ]
  },
  {
   "cell_type": "code",
   "execution_count": 9,
   "id": "4ff72d7b",
   "metadata": {},
   "outputs": [
    {
     "name": "stdout",
     "output_type": "stream",
     "text": [
      "4.5056915283203125\n"
     ]
    }
   ],
   "source": [
    "a=np.array(ee).min()\n",
    "print(a)\n",
    "c=np.where(ee==a)"
   ]
  },
  {
   "cell_type": "code",
   "execution_count": 10,
   "id": "1ebfc878",
   "metadata": {},
   "outputs": [
    {
     "name": "stdout",
     "output_type": "stream",
     "text": [
      "(array([5], dtype=int64),)\n"
     ]
    }
   ],
   "source": [
    "print(c)"
   ]
  },
  {
   "cell_type": "code",
   "execution_count": 11,
   "id": "b55cd12a",
   "metadata": {},
   "outputs": [
    {
     "name": "stdout",
     "output_type": "stream",
     "text": [
      "6 7 8 9 10 11 12 13 14 52.8596076965332\n"
     ]
    }
   ],
   "source": [
    "import numpy as np\n",
    "\n",
    "z=[]\n",
    "zz=[]\n",
    "def linear1(m1,m2,m3,m4,m5,m6,m7,m8,c):\n",
    "  sum=0\n",
    "  yp=[]\n",
    "  j=0\n",
    "\n",
    "  for i in range(651,768):\n",
    "    yp.append(m1*x1[i]+m2*x2[i]+m3*x3[i]+m4*x4[i]+m5*x5[i]+m6*x6[i]+m7*x7[i]+m8*x8[i]+c)\n",
    "    g=(y1[i]-yp[j])**2\n",
    "    sum=sum+g\n",
    "    j=j+1\n",
    "    sum=sum+g\n",
    "  z.append(sum)\n",
    "  zz.append(np.mod(sum,150))\n",
    "  print(m1,m2,m3,m4,m5,m6,m7,m8,c,np.mod(sum,150))\n",
    "\n",
    "\n",
    "linear1(6, 7, 8, 9, 10, 11, 12, 13,14)"
   ]
  },
  {
   "cell_type": "code",
   "execution_count": 12,
   "id": "585558d8",
   "metadata": {},
   "outputs": [],
   "source": [
    "import random\n",
    "x1_train=[]\n",
    "x2_train=[]\n",
    "x3_train=[]\n",
    "x4_train=[]\n",
    "x5_train=[]\n",
    "x6_train=[]\n",
    "x7_train=[]\n",
    "x8_train=[]\n",
    "y2_train=[]\n",
    "\n",
    "\n",
    "for j in range(0,600):\n",
    "  for i in range(0,768,2):\n",
    "    x1_train.append(x1[i])\n",
    "    x2_train.append(x2[i])\n",
    "    x3_train.append(x3[i])\n",
    "    x4_train.append(x4[i])\n",
    "    x5_train.append(x5[i])\n",
    "    x6_train.append(x6[i])\n",
    "    x7_train.append(x7[i])\n",
    "    x8_train.append(x8[i])\n",
    "    y2_train.append(y2[i])\n",
    "  "
   ]
  },
  {
   "cell_type": "code",
   "execution_count": 13,
   "id": "6d2c593d",
   "metadata": {},
   "outputs": [
    {
     "name": "stdout",
     "output_type": "stream",
     "text": [
      "2 3 4 5 6 7 8 9 10 535.1641979217529\n",
      "3 4 5 6 7 8 9 10 11 417.91159439086914\n",
      "4 5 6 7 8 9 10 11 12 568.3261833190918\n",
      "5 6 7 8 9 10 11 12 13 336.4080047607422\n",
      "6 7 8 9 10 11 12 13 14 372.1569595336914\n",
      "7 8 9 10 11 12 13 14 15 25.57317352294922\n",
      "8 9 10 11 12 13 14 15 16 596.6565399169922\n",
      "9 10 11 12 13 14 15 16 17 135.4072265625\n",
      "10 11 12 13 14 15 16 17 18 591.8250274658203\n",
      "11 12 13 14 15 16 17 18 19 15.9100341796875\n",
      "12 13 14 15 16 17 18 19 20 357.662353515625\n",
      "13 14 15 16 17 18 19 20 21 317.0816650390625\n",
      "14 15 16 17 18 19 20 21 22 544.1682739257812\n",
      "15 16 17 18 19 20 21 22 23 388.9219665527344\n",
      "16 17 18 19 20 21 22 23 24 501.3433837890625\n",
      "17 18 19 20 21 22 23 24 25 231.43121337890625\n",
      "18 19 20 21 22 23 24 25 26 229.1866455078125\n",
      "19 20 21 22 23 24 25 26 27 494.6090087890625\n",
      "20 21 22 23 24 25 26 27 28 377.69866943359375\n",
      "21 22 23 24 25 26 27 28 29 528.456298828125\n",
      "22 23 24 25 26 27 28 29 30 296.880126953125\n",
      "23 24 25 26 27 28 29 30 31 332.9715576171875\n",
      "24 25 26 27 28 29 30 31 32 636.7303466796875\n",
      "25 26 27 28 29 30 31 32 33 558.15576171875\n",
      "26 27 28 29 30 31 32 33 34 97.24853515625\n",
      "27 28 29 30 31 32 33 34 35 554.00927734375\n",
      "28 29 30 31 32 33 34 35 36 628.4371337890625\n",
      "29 30 31 32 33 34 35 36 37 320.531494140625\n",
      "30 31 32 33 34 35 36 37 38 280.2928466796875\n",
      "31 32 33 34 35 36 37 38 39 507.72216796875\n",
      "32 33 34 35 36 37 38 39 40 352.8189697265625\n",
      "33 34 35 36 37 38 39 40 41 465.581787109375\n",
      "34 35 36 37 38 39 40 41 42 196.01171875\n",
      "35 36 37 38 39 40 41 42 43 194.109619140625\n",
      "36 37 38 39 40 41 42 43 44 459.875244140625\n",
      "37 38 39 40 41 42 43 44 45 343.30908203125\n",
      "38 39 40 41 42 43 44 45 46 494.406494140625\n",
      "39 40 41 42 43 44 45 46 47 263.17431640625\n",
      "40 41 42 43 44 45 46 47 48 299.606201171875\n",
      "41 42 43 44 45 46 47 48 49 603.706787109375\n",
      "42 43 44 45 46 47 48 49 50 525.4765625\n",
      "43 44 45 46 47 48 49 50 51 64.912109375\n",
      "44 45 46 47 48 49 50 51 52 522.014404296875\n",
      "45 46 47 48 49 50 51 52 53 596.78466796875\n",
      "46 47 48 49 50 51 52 53 54 289.22021484375\n",
      "47 48 49 50 51 52 53 54 55 249.3271484375\n",
      "48 49 50 51 52 53 54 55 56 477.09765625\n",
      "49 50 51 52 53 54 55 56 57 322.537109375\n",
      "50 51 52 53 54 55 56 57 58 435.64208984375\n",
      "51 52 53 54 55 56 57 58 59 166.4150390625\n",
      "52 53 54 55 56 57 58 59 60 164.85498046875\n",
      "53 54 55 56 57 58 59 60 61 430.96533203125\n",
      "54 55 56 57 58 59 60 61 62 314.73486328125\n",
      "55 56 57 58 59 60 61 62 63 466.17333984375\n",
      "56 57 58 59 60 61 62 63 64 235.28759765625\n",
      "57 58 59 60 61 62 63 64 65 272.06201171875\n",
      "58 59 60 61 62 63 64 65 66 576.5068359375\n",
      "59 60 61 62 63 64 65 66 67 498.61962890625\n",
      "60 61 62 63 64 65 66 67 68 38.39453125\n",
      "61 62 63 64 65 66 67 68 69 495.84521484375\n",
      "62 63 64 65 66 67 68 69 70 570.95166015625\n",
      "63 64 65 66 67 68 69 70 71 263.72802734375\n",
      "64 65 66 67 68 69 70 71 72 224.17919921875\n",
      "65 66 67 68 69 70 71 72 73 452.29052734375\n",
      "66 67 68 69 70 71 72 73 74 298.0712890625\n",
      "67 68 69 70 71 72 73 74 75 411.525390625\n",
      "68 69 70 71 72 73 74 75 76 142.6376953125\n",
      "69 70 71 72 73 74 75 76 77 141.41796875\n",
      "70 71 72 73 74 75 76 77 78 407.8701171875\n",
      "71 72 73 74 75 76 77 78 79 291.9873046875\n",
      "72 73 74 75 76 77 78 79 80 443.7734375\n",
      "73 74 75 76 77 78 79 80 81 213.2216796875\n",
      "74 75 76 77 78 79 80 81 82 250.3388671875\n",
      "75 76 77 78 79 80 81 82 83 555.1181640625\n",
      "76 77 78 79 80 81 82 83 84 477.5771484375\n",
      "77 78 79 80 81 82 83 84 85 17.693359375\n",
      "78 79 80 81 82 83 84 85 86 475.4921875\n",
      "79 80 81 82 83 84 85 86 87 550.9375\n",
      "80 81 82 83 84 85 86 87 88 244.05859375\n",
      "81 82 83 84 85 86 87 88 89 204.853515625\n",
      "82 83 84 85 86 87 88 89 90 433.3046875\n",
      "83 84 85 86 87 88 89 90 91 279.4306640625\n",
      "84 85 86 87 88 89 90 91 92 393.2275390625\n",
      "85 86 87 88 89 90 91 92 93 124.67578125\n",
      "86 87 88 89 90 91 92 93 94 123.806640625\n",
      "87 88 89 90 91 92 93 94 95 390.6015625\n",
      "88 89 90 91 92 93 94 95 96 275.0478515625\n",
      "89 90 91 92 93 94 95 96 97 427.1845703125\n",
      "90 91 92 93 94 95 96 97 98 196.97265625\n",
      "91 92 93 94 95 96 97 98 99 234.4375\n",
      "92 93 94 95 96 97 98 99 100 539.5615234375\n",
      "93 94 95 96 97 98 99 100 101 462.3623046875\n",
      "94 95 96 97 98 99 100 101 102 2.8193359375\n",
      "95 96 97 98 99 100 101 102 103 460.947265625\n",
      "96 97 98 99 100 101 102 103 104 536.7451171875\n",
      "97 98 99 100 101 102 103 104 105 230.205078125\n",
      "98 99 100 101 102 103 104 105 106 191.345703125\n",
      "99 100 101 102 103 104 105 106 107 420.138671875\n",
      "100 101 102 103 104 105 106 107 108 266.615234375\n"
     ]
    }
   ],
   "source": [
    "import numpy as np\n",
    "\n",
    "e=[]\n",
    "ee=[]\n",
    "def linear(m1,m2,m3,m4,m5,m6,m7,m8,c):\n",
    "  sum=0\n",
    "  yp=[]\n",
    "\n",
    "  for i in range(0,650):\n",
    "    yp.append(m1*x1[i]+m2*x2[i]+m3*x3[i]+m4*x4[i]+m5*x5[i]+m6*x6[i]+m7*x7[i]+m8*x8[i]+c)\n",
    "    g=(y2[i]-yp[i])**2\n",
    "    sum=sum+g\n",
    "  e.append(sum)\n",
    "  ee.append(np.mod(sum,650))\n",
    "  print(m1,m2,m3,m4,m5,m6,m7,m8,c,np.mod(sum,650))\n",
    "  sum=0\n",
    "\n",
    "\n",
    "for i in range(1,100):\n",
    "  linear(1+i,2+i,3+i,4+i,5+i,6+i,7+i,8+i,9+i)"
   ]
  },
  {
   "cell_type": "code",
   "execution_count": 14,
   "id": "29f78d86",
   "metadata": {},
   "outputs": [
    {
     "name": "stdout",
     "output_type": "stream",
     "text": [
      "[535.1641979217529, 417.91159439086914, 568.3261833190918, 336.4080047607422, 372.1569595336914, 25.57317352294922, 596.6565399169922, 135.4072265625, 591.8250274658203, 15.9100341796875, 357.662353515625, 317.0816650390625, 544.1682739257812, 388.9219665527344, 501.3433837890625, 231.43121337890625, 229.1866455078125, 494.6090087890625, 377.69866943359375, 528.456298828125, 296.880126953125, 332.9715576171875, 636.7303466796875, 558.15576171875, 97.24853515625, 554.00927734375, 628.4371337890625, 320.531494140625, 280.2928466796875, 507.72216796875, 352.8189697265625, 465.581787109375, 196.01171875, 194.109619140625, 459.875244140625, 343.30908203125, 494.406494140625, 263.17431640625, 299.606201171875, 603.706787109375, 525.4765625, 64.912109375, 522.014404296875, 596.78466796875, 289.22021484375, 249.3271484375, 477.09765625, 322.537109375, 435.64208984375, 166.4150390625, 164.85498046875, 430.96533203125, 314.73486328125, 466.17333984375, 235.28759765625, 272.06201171875, 576.5068359375, 498.61962890625, 38.39453125, 495.84521484375, 570.95166015625, 263.72802734375, 224.17919921875, 452.29052734375, 298.0712890625, 411.525390625, 142.6376953125, 141.41796875, 407.8701171875, 291.9873046875, 443.7734375, 213.2216796875, 250.3388671875, 555.1181640625, 477.5771484375, 17.693359375, 475.4921875, 550.9375, 244.05859375, 204.853515625, 433.3046875, 279.4306640625, 393.2275390625, 124.67578125, 123.806640625, 390.6015625, 275.0478515625, 427.1845703125, 196.97265625, 234.4375, 539.5615234375, 462.3623046875, 2.8193359375, 460.947265625, 536.7451171875, 230.205078125, 191.345703125, 420.138671875, 266.615234375]\n"
     ]
    }
   ],
   "source": [
    "print(ee)"
   ]
  },
  {
   "cell_type": "code",
   "execution_count": 15,
   "id": "45d9b3ef",
   "metadata": {},
   "outputs": [
    {
     "name": "stdout",
     "output_type": "stream",
     "text": [
      "2.8193359375\n"
     ]
    }
   ],
   "source": [
    "a=np.array(ee).min()\n",
    "print(a)\n",
    "c=np.where(ee==a)"
   ]
  },
  {
   "cell_type": "code",
   "execution_count": 16,
   "id": "3ed90b39",
   "metadata": {},
   "outputs": [
    {
     "name": "stdout",
     "output_type": "stream",
     "text": [
      "(array([92], dtype=int64),)\n"
     ]
    }
   ],
   "source": [
    "print(c)"
   ]
  },
  {
   "cell_type": "code",
   "execution_count": 17,
   "id": "140a9dbd",
   "metadata": {},
   "outputs": [
    {
     "name": "stdout",
     "output_type": "stream",
     "text": [
      "6 7 8 9 10 11 12 13 14 140.42620468139648\n"
     ]
    }
   ],
   "source": [
    "import numpy as np\n",
    "\n",
    "z=[]\n",
    "zz=[]\n",
    "def linear1(m1,m2,m3,m4,m5,m6,m7,m8,c):\n",
    "  sum=0\n",
    "  yp=[]\n",
    "  j=0\n",
    "\n",
    "  for i in range(651,768):\n",
    "    yp.append(m1*x1[i]+m2*x2[i]+m3*x3[i]+m4*x4[i]+m5*x5[i]+m6*x6[i]+m7*x7[i]+m8*x8[i]+c)\n",
    "    g=(y2[i]-yp[j])**2\n",
    "    sum=sum+g\n",
    "    j=j+1\n",
    "    sum=sum+g\n",
    "  z.append(sum)\n",
    "  zz.append(np.mod(sum,150))\n",
    "  print(m1,m2,m3,m4,m5,m6,m7,m8,c,np.mod(sum,150))\n",
    "\n",
    "\n",
    "linear1(6, 7, 8, 9, 10, 11, 12, 13,14)"
   ]
  },
  {
   "cell_type": "code",
   "execution_count": 18,
   "id": "099852de",
   "metadata": {},
   "outputs": [
    {
     "name": "stdout",
     "output_type": "stream",
     "text": [
      "[ 0  1  2  3  4  5  6  7  8  9 10 11 12 13 14 15 16 17 18 19 20 21 22 23\n",
      " 24 25 26 27 28 29 30 31 32 33 34 35 36 37 38 39 40 41 42 43 44 45 46 47\n",
      " 48 49 50 51 52 53 54 55 56 57 58 59 60 61 62 63 64 65 66 67 68 69 70 71\n",
      " 72 73 74 75 76 77 78 79 80 81 82 83 84 85 86 87 88 89 90 91 92 93 94 95\n",
      " 96 97 98]\n"
     ]
    }
   ],
   "source": [
    "ee1=np.arange(0,99)\n",
    "print(ee1)"
   ]
  },
  {
   "cell_type": "code",
   "execution_count": 19,
   "id": "4bf0a835",
   "metadata": {},
   "outputs": [
    {
     "data": {
      "text/plain": [
       "[<matplotlib.lines.Line2D at 0x156324da370>]"
      ]
     },
     "execution_count": 19,
     "metadata": {},
     "output_type": "execute_result"
    },
    {
     "data": {
      "image/png": "[encoded data removed]",
      "text/plain": [
       "<Figure size 432x288 with 1 Axes>"
      ]
     },
     "metadata": {
      "needs_background": "light"
     },
     "output_type": "display_data"
    }
   ],
   "source": [
    "from matplotlib import pyplot as pt\n",
    "pt.plot(ee1,ee)"
   ]
  },
  {
   "cell_type": "code",
   "execution_count": 20,
   "id": "199a8610",
   "metadata": {},
   "outputs": [
    {
     "data": {
      "text/plain": [
       "<matplotlib.collections.PathCollection at 0x156325d94f0>"
      ]
     },
     "execution_count": 20,
     "metadata": {},
     "output_type": "execute_result"
    },
    {
     "data": {
      "image/png": "[encoded data removed]",
      "text/plain": [
       "<Figure size 432x288 with 1 Axes>"
      ]
     },
     "metadata": {
      "needs_background": "light"
     },
     "output_type": "display_data"
    }
   ],
   "source": [
    "pt.scatter(x1,y1)"
   ]
  },
  {
   "cell_type": "code",
   "execution_count": 21,
   "id": "9bcbeaa5",
   "metadata": {},
   "outputs": [
    {
     "data": {
      "text/plain": [
       "<matplotlib.collections.PathCollection at 0x156325b03a0>"
      ]
     },
     "execution_count": 21,
     "metadata": {},
     "output_type": "execute_result"
    },
    {
     "data": {
      "image/png": "[encoded data removed]",
      "text/plain": [
       "<Figure size 432x288 with 1 Axes>"
      ]
     },
     "metadata": {
      "needs_background": "light"
     },
     "output_type": "display_data"
    }
   ],
   "source": [
    "pt.scatter(x2,y1)"
   ]
  },
  {
   "cell_type": "code",
   "execution_count": 22,
   "id": "940d406a",
   "metadata": {},
   "outputs": [
    {
     "data": {
      "text/plain": [
       "<matplotlib.collections.PathCollection at 0x15632647220>"
      ]
     },
     "execution_count": 22,
     "metadata": {},
     "output_type": "execute_result"
    },
    {
     "data": {
      "image/png": "[encoded data removed]",
      "text/plain": [
       "<Figure size 432x288 with 1 Axes>"
      ]
     },
     "metadata": {
      "needs_background": "light"
     },
     "output_type": "display_data"
    }
   ],
   "source": [
    "pt.scatter(x3,y1)"
   ]
  },
  {
   "cell_type": "code",
   "execution_count": 23,
   "id": "c8800e10",
   "metadata": {},
   "outputs": [
    {
     "data": {
      "text/plain": [
       "<matplotlib.collections.PathCollection at 0x156326f8670>"
      ]
     },
     "execution_count": 23,
     "metadata": {},
     "output_type": "execute_result"
    },
    {
     "data": {
      "image/png": "[encoded data removed]",
      "text/plain": [
       "<Figure size 432x288 with 1 Axes>"
      ]
     },
     "metadata": {
      "needs_background": "light"
     },
     "output_type": "display_data"
    }
   ],
   "source": [
    "pt.scatter(x4,y1)"
   ]
  },
  {
   "cell_type": "code",
   "execution_count": 24,
   "id": "d2838a28",
   "metadata": {},
   "outputs": [
    {
     "data": {
      "text/plain": [
       "<matplotlib.collections.PathCollection at 0x156327a18b0>"
      ]
     },
     "execution_count": 24,
     "metadata": {},
     "output_type": "execute_result"
    },
    {
     "data": {
      "image/png": "[encoded data removed]",
      "text/plain": [
       "<Figure size 432x288 with 1 Axes>"
      ]
     },
     "metadata": {
      "needs_background": "light"
     },
     "output_type": "display_data"
    }
   ],
   "source": [
    "pt.scatter(x5,y1)"
   ]
  },
  {
   "cell_type": "code",
   "execution_count": 25,
   "id": "b75dd4d5",
   "metadata": {},
   "outputs": [
    {
     "data": {
      "text/plain": [
       "<matplotlib.collections.PathCollection at 0x156327587f0>"
      ]
     },
     "execution_count": 25,
     "metadata": {},
     "output_type": "execute_result"
    },
    {
     "data": {
      "image/png": "[encoded data removed]",
      "text/plain": [
       "<Figure size 432x288 with 1 Axes>"
      ]
     },
     "metadata": {
      "needs_background": "light"
     },
     "output_type": "display_data"
    }
   ],
   "source": [
    "pt.scatter(x6,y1)"
   ]
  },
  {
   "cell_type": "code",
   "execution_count": 26,
   "id": "f7f746b8",
   "metadata": {},
   "outputs": [
    {
     "data": {
      "text/plain": [
       "<matplotlib.collections.PathCollection at 0x15632878fa0>"
      ]
     },
     "execution_count": 26,
     "metadata": {},
     "output_type": "execute_result"
    },
    {
     "data": {
      "image/png": "[encoded data removed]",
      "text/plain": [
       "<Figure size 432x288 with 1 Axes>"
      ]
     },
     "metadata": {
      "needs_background": "light"
     },
     "output_type": "display_data"
    }
   ],
   "source": [
    "pt.scatter(x7,y1)"
   ]
  },
  {
   "cell_type": "code",
   "execution_count": 27,
   "id": "4911c123",
   "metadata": {},
   "outputs": [
    {
     "data": {
      "text/plain": [
       "<matplotlib.collections.PathCollection at 0x156328f64c0>"
      ]
     },
     "execution_count": 27,
     "metadata": {},
     "output_type": "execute_result"
    },
    {
     "data": {
      "image/png": "[encoded data removed]",
      "text/plain": [
       "<Figure size 432x288 with 1 Axes>"
      ]
     },
     "metadata": {
      "needs_background": "light"
     },
     "output_type": "display_data"
    }
   ],
   "source": [
    "pt.scatter(x8,y1)"
   ]
  },
  {
   "cell_type": "code",
   "execution_count": 28,
   "id": "7b20240d",
   "metadata": {},
   "outputs": [
    {
     "data": {
      "text/plain": [
       "<matplotlib.collections.PathCollection at 0x15629d18850>"
      ]
     },
     "execution_count": 28,
     "metadata": {},
     "output_type": "execute_result"
    },
    {
     "data": {
      "image/png": "[encoded data removed]",
      "text/plain": [
       "<Figure size 432x288 with 1 Axes>"
      ]
     },
     "metadata": {
      "needs_background": "light"
     },
     "output_type": "display_data"
    }
   ],
   "source": [
    "pt.scatter(x1,y2)"
   ]
  },
  {
   "cell_type": "code",
   "execution_count": 29,
   "id": "7a147594",
   "metadata": {},
   "outputs": [
    {
     "data": {
      "text/plain": [
       "<matplotlib.collections.PathCollection at 0x1563299b1c0>"
      ]
     },
     "execution_count": 29,
     "metadata": {},
     "output_type": "execute_result"
    },
    {
     "data": {
      "image/png": "[encoded data removed]",
      "text/plain": [
       "<Figure size 432x288 with 1 Axes>"
      ]
     },
     "metadata": {
      "needs_background": "light"
     },
     "output_type": "display_data"
    }
   ],
   "source": [
    "pt.scatter(x2,y2)"
   ]
  },
  {
   "cell_type": "code",
   "execution_count": 30,
   "id": "473d626a",
   "metadata": {},
   "outputs": [
    {
     "data": {
      "text/plain": [
       "<matplotlib.collections.PathCollection at 0x15632a353d0>"
      ]
     },
     "execution_count": 30,
     "metadata": {},
     "output_type": "execute_result"
    },
    {
     "data": {
      "image/png": "[encoded data removed]",
      "text/plain": [
       "<Figure size 432x288 with 1 Axes>"
      ]
     },
     "metadata": {
      "needs_background": "light"
     },
     "output_type": "display_data"
    }
   ],
   "source": [
    "pt.scatter(x3,y2)"
   ]
  },
  {
   "cell_type": "code",
   "execution_count": 31,
   "id": "69b4a08b",
   "metadata": {},
   "outputs": [
    {
     "data": {
      "text/plain": [
       "<matplotlib.collections.PathCollection at 0x15632aa7310>"
      ]
     },
     "execution_count": 31,
     "metadata": {},
     "output_type": "execute_result"
    },
    {
     "data": {
      "image/png": "[encoded data removed]",
      "text/plain": [
       "<Figure size 432x288 with 1 Axes>"
      ]
     },
     "metadata": {
      "needs_background": "light"
     },
     "output_type": "display_data"
    }
   ],
   "source": [
    "pt.scatter(x4,y2)"
   ]
  },
  {
   "cell_type": "code",
   "execution_count": 32,
   "id": "d11ce515",
   "metadata": {},
   "outputs": [
    {
     "data": {
      "text/plain": [
       "<matplotlib.collections.PathCollection at 0x15632b0f310>"
      ]
     },
     "execution_count": 32,
     "metadata": {},
     "output_type": "execute_result"
    },
    {
     "data": {
      "image/png": "[encoded data removed]",
      "text/plain": [
       "<Figure size 432x288 with 1 Axes>"
      ]
     },
     "metadata": {
      "needs_background": "light"
     },
     "output_type": "display_data"
    }
   ],
   "source": [
    "pt.scatter(x5,y2)"
   ]
  },
  {
   "cell_type": "code",
   "execution_count": 33,
   "id": "3bede129",
   "metadata": {},
   "outputs": [
    {
     "data": {
      "text/plain": [
       "<matplotlib.collections.PathCollection at 0x15632b74fd0>"
      ]
     },
     "execution_count": 33,
     "metadata": {},
     "output_type": "execute_result"
    },
    {
     "data": {
      "image/png": "[encoded data removed]",
      "text/plain": [
       "<Figure size 432x288 with 1 Axes>"
      ]
     },
     "metadata": {
      "needs_background": "light"
     },
     "output_type": "display_data"
    }
   ],
   "source": [
    "pt.scatter(x6,y2)"
   ]
  },
  {
   "cell_type": "code",
   "execution_count": 34,
   "id": "d4b38a05",
   "metadata": {},
   "outputs": [
    {
     "data": {
      "text/plain": [
       "<matplotlib.collections.PathCollection at 0x15632be4490>"
      ]
     },
     "execution_count": 34,
     "metadata": {},
     "output_type": "execute_result"
    },
    {
     "data": {
      "image/png": "[encoded data removed]",
      "text/plain": [
       "<Figure size 432x288 with 1 Axes>"
      ]
     },
     "metadata": {
      "needs_background": "light"
     },
     "output_type": "display_data"
    }
   ],
   "source": [
    "pt.scatter(x7,y2)"
   ]
  },
  {
   "cell_type": "code",
   "execution_count": 35,
   "id": "274f3309",
   "metadata": {},
   "outputs": [
    {
     "data": {
      "text/plain": [
       "<matplotlib.collections.PathCollection at 0x15632c46af0>"
      ]
     },
     "execution_count": 35,
     "metadata": {},
     "output_type": "execute_result"
    },
    {
     "data": {
      "image/png": "[encoded data removed]",
      "text/plain": [
       "<Figure size 432x288 with 1 Axes>"
      ]
     },
     "metadata": {
      "needs_background": "light"
     },
     "output_type": "display_data"
    }
   ],
   "source": [
    "pt.scatter(x8,y2)"
   ]
  },
  {
   "cell_type": "code",
   "execution_count": null,
   "id": "0ae0e160",
   "metadata": {},
   "outputs": [],
   "source": []
  }
 ],
 "metadata": {
  "kernelspec": {
   "display_name": "Python 3 (ipykernel)",
   "language": "python",
   "name": "python3"
  },
  "language_info": {
   "codemirror_mode": {
    "name": "ipython",
    "version": 3
   },
   "file_extension": ".py",
   "mimetype": "text/x-python",
   "name": "python",
   "nbconvert_exporter": "python",
   "pygments_lexer": "ipython3",
   "version": "3.9.7"
  }
 },
 "nbformat": 4,
 "nbformat_minor": 5
}
